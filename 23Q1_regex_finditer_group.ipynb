{
 "cells": [
  {
   "cell_type": "markdown",
   "id": "8fce965b",
   "metadata": {},
   "source": [
    "- Search finds the first occurrence and returns a versatile Match object\n",
    "- Findall/ Replace => easy\n",
    "- FindIter to go through all the matches.\n",
    "    - Can be combined with Group \"()\" to process each match"
   ]
  },
  {
   "cell_type": "code",
   "execution_count": 20,
   "id": "ff5586ce",
   "metadata": {},
   "outputs": [],
   "source": [
    "import re\n",
    "txt = \"The rain in Spain1 and Spain2 Spain9\""
   ]
  },
  {
   "cell_type": "markdown",
   "id": "fb7438cf",
   "metadata": {},
   "source": [
    "## _Search_ only find the first match and extract it, returning a Match object"
   ]
  },
  {
   "cell_type": "code",
   "execution_count": 21,
   "id": "c56becff",
   "metadata": {},
   "outputs": [
    {
     "name": "stdout",
     "output_type": "stream",
     "text": [
      "<re.Match object; span=(11, 18), match=' Spain1'>\n",
      "(11, 18)  Spain1\n",
      "11 18 The rain in Spain1 and Spain2 Spain9\n"
     ]
    }
   ],
   "source": [
    "x = re.search(\" Spain[0-9]\", txt)\n",
    "print(x)\n",
    "print(x.span(), x.group())\n",
    "print(x.start(), x.end(), x.string)"
   ]
  },
  {
   "cell_type": "markdown",
   "id": "35d8879c",
   "metadata": {},
   "source": [
    "## _Findall_ returns all matches"
   ]
  },
  {
   "cell_type": "code",
   "execution_count": 22,
   "id": "aaf18566",
   "metadata": {},
   "outputs": [
    {
     "data": {
      "text/plain": [
       "[' Spain1', ' Spain2', ' Spain9']"
      ]
     },
     "execution_count": 22,
     "metadata": {},
     "output_type": "execute_result"
    }
   ],
   "source": [
    "re.findall(\" Spain[0-9]\", txt)"
   ]
  },
  {
   "cell_type": "markdown",
   "id": "fb8b72c8",
   "metadata": {},
   "source": [
    "## Replace"
   ]
  },
  {
   "cell_type": "code",
   "execution_count": 24,
   "id": "b32962cf",
   "metadata": {},
   "outputs": [
    {
     "data": {
      "text/plain": [
       "'The9rain9in9Spain'"
      ]
     },
     "execution_count": 24,
     "metadata": {},
     "output_type": "execute_result"
    }
   ],
   "source": [
    "txt = \"The rain in Spain\"\n",
    "re.sub(\"\\s\", \"9\", txt)"
   ]
  },
  {
   "cell_type": "markdown",
   "id": "140f0195",
   "metadata": {},
   "source": [
    "## Using group\n",
    "https://pynative.com/python-regex-capturing-groups/"
   ]
  },
  {
   "cell_type": "code",
   "execution_count": 34,
   "id": "40f5a78b",
   "metadata": {},
   "outputs": [
    {
     "name": "stdout",
     "output_type": "stream",
     "text": [
      "('PINEAPPLE', '20')\n",
      "0 PINEAPPLE ice cream is 20\n",
      "1 PINEAPPLE\n",
      "2 20\n",
      "[('PINEAPPLE', '20')]\n"
     ]
    }
   ],
   "source": [
    "target_string = \"The price of PINEAPPLE ice cream is 20\"\n",
    "# Match upper case word => [A-Z]+\n",
    "# Match the price => [\\d]+\n",
    "# \\b = word boundary\n",
    "result = re.search(r\"(\\b[A-Z]+\\b).+(\\b\\d+)\", target_string)\n",
    "print(result.groups())\n",
    "for i in range(3):\n",
    "    print(i, result.group(i))\n",
    "print(re.findall(r\"(\\b[A-Z]+\\b).+(\\b\\d+)\", target_string))"
   ]
  },
  {
   "cell_type": "code",
   "execution_count": 30,
   "id": "f16b1bc4",
   "metadata": {},
   "outputs": [
    {
     "name": "stdout",
     "output_type": "stream",
     "text": [
      "('PINEAPPLE', '30')\n"
     ]
    },
    {
     "data": {
      "text/plain": [
       "[('PINEAPPLE', '30')]"
      ]
     },
     "execution_count": 30,
     "metadata": {},
     "output_type": "execute_result"
    }
   ],
   "source": [
    "target_string = \"The price of PINEAPPLE ice cream is 20 but CHOCOLATE is 30\"\n",
    "# Match upper case word => [A-Z]+\n",
    "# Match the price => [\\d]+\n",
    "result = re.search(r\"(\\b[A-Z]+\\b).+(\\b\\d+)\", target_string)\n",
    "print(result.groups())\n",
    "re.findall(r\"(\\b[A-Z]+\\b).+(\\b\\d+)\", target_string)"
   ]
  },
  {
   "cell_type": "markdown",
   "id": "8feb3037",
   "metadata": {},
   "source": [
    "## Use Find iter to return all matches as Match object"
   ]
  },
  {
   "cell_type": "code",
   "execution_count": 54,
   "id": "e90c3073",
   "metadata": {},
   "outputs": [
    {
     "name": "stdout",
     "output_type": "stream",
     "text": [
      "0 PINEAPPLE 20\n",
      "<re.Match object; span=(24, 36), match='PINEAPPLE 20'>\n",
      "1 MANGO 30\n",
      "<re.Match object; span=(37, 45), match='MANGO 30'>\n",
      "2 CHOCOLATE 40\n",
      "<re.Match object; span=(46, 58), match='CHOCOLATE 40'>\n"
     ]
    }
   ],
   "source": [
    "target_string = \"The price of ice-creams PINEAPPLE 20 MANGO 30 CHOCOLATE 40 some ending words\"\n",
    "\n",
    "# two groups enclosed in separate ( and ) bracket\n",
    "# group 1: find all uppercase letter\n",
    "# group 2: find all numbers\n",
    "# you can compile a pattern or directly pass to the finditer() method\n",
    "pattern = re.compile(r\"(\\b[A-Z]+\\b).(\\b\\d+\\b)\")\n",
    "\n",
    "# find all matches to groups\n",
    "for i, match in enumerate(pattern.finditer(target_string)):\n",
    "    print(i, match.group(1), match.group(2))\n",
    "    print(match)\n"
   ]
  },
  {
   "cell_type": "markdown",
   "id": "abef9403",
   "metadata": {},
   "source": [
    "### Attempt to process each match separately"
   ]
  },
  {
   "cell_type": "code",
   "execution_count": 66,
   "id": "09b3c87d",
   "metadata": {},
   "outputs": [
    {
     "name": "stdout",
     "output_type": "stream",
     "text": [
      "0 The price of ice-creams  0 24\n",
      "1   36 37\n",
      "2   45 46\n",
      "Original string: The price of ice-creams PINEAPPLE 20 MANGO 30 CHOCOLATE 40 some ending words\n",
      "Processed string: The price of ice-creams pi25 ma35 ch45 some ending words\n"
     ]
    }
   ],
   "source": [
    "def process_group(match):\n",
    "    return list(match.group(1)[:2].lower()) + list(str(int(match.group(2)) + 5))\n",
    "    \n",
    "list_match = list(pattern.finditer(target_string))\n",
    "last_end =  0\n",
    "tmp = []\n",
    "for i, match in enumerate(list_match):\n",
    "    tmp_str = target_string[last_end:match.start()]\n",
    "    tmp = tmp + list(tmp_str)\n",
    "    print(i, tmp_str, last_end, match.start())\n",
    "    \n",
    "    last_end = match.end()\n",
    "    tmp = tmp + process_group(match)\n",
    "\n",
    "tmp = tmp + list(target_string[match.end():])\n",
    "print(\"Original string: \" + target_string)\n",
    "print(\"Processed string: \"+''.join(tmp))\n",
    "        "
   ]
  },
  {
   "cell_type": "code",
   "execution_count": null,
   "id": "e7e8664c",
   "metadata": {},
   "outputs": [],
   "source": []
  }
 ],
 "metadata": {
  "kernelspec": {
   "display_name": "Python 3 (ipykernel)",
   "language": "python",
   "name": "python3"
  },
  "language_info": {
   "codemirror_mode": {
    "name": "ipython",
    "version": 3
   },
   "file_extension": ".py",
   "mimetype": "text/x-python",
   "name": "python",
   "nbconvert_exporter": "python",
   "pygments_lexer": "ipython3",
   "version": "3.9.5"
  }
 },
 "nbformat": 4,
 "nbformat_minor": 5
}
